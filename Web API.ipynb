{
 "cells": [
  {
   "cell_type": "markdown",
   "metadata": {},
   "source": [
    "# Data Acquistion - Web API's\n",
    "* Application Programming Interface - Set of routines running over web server.\n",
    "* Connects Application & Database\n",
    "* Specify Data with URL\n",
    "* Retrieve Data & Parse It\n",
    "* API may return data in JSON, XML data format's\n",
    "\n",
    "# JSON\n",
    "* JavaScript Object Notation\n",
    "* Dictionary Like Data-structure : key value pairs\n",
    "* Keys are strings, values can be anything\n",
    "* Easy to read and write\n",
    "\n",
    "# XML\n",
    "* eXtensible Markup Language\n",
    "* Structure similar to XML\n",
    "* Custom Tags\n",
    "* No Style\n"
   ]
  },
  {
   "cell_type": "markdown",
   "metadata": {},
   "source": [
    "# Type of Requests\n",
    "* GET\n",
    "* POST\n",
    "* DELETE\n",
    "* PUT\n",
    "* PATCH\n",
    "* Urllib\n",
    "* Requests"
   ]
  },
  {
   "cell_type": "markdown",
   "metadata": {},
   "source": [
    "# 1. Wether Api"
   ]
  },
  {
   "cell_type": "code",
   "execution_count": 16,
   "metadata": {},
   "outputs": [],
   "source": [
    "from urllib.request import urlopen\n",
    "import json"
   ]
  },
  {
   "cell_type": "code",
   "execution_count": 17,
   "metadata": {},
   "outputs": [],
   "source": [
    "api_url = \"https://samples.openweathermap.org/data/2.5/weather?q=India&appid=APIKEY\""
   ]
  },
  {
   "cell_type": "code",
   "execution_count": 18,
   "metadata": {},
   "outputs": [],
   "source": [
    "url_result = urlopen(api_url)\n",
    "data = url_result.read()"
   ]
  },
  {
   "cell_type": "code",
   "execution_count": 19,
   "metadata": {},
   "outputs": [
    {
     "data": {
      "text/plain": [
       "{'coord': {'lon': -0.13, 'lat': 51.51},\n",
       " 'weather': [{'id': 300,\n",
       "   'main': 'Drizzle',\n",
       "   'description': 'light intensity drizzle',\n",
       "   'icon': '09d'}],\n",
       " 'base': 'stations',\n",
       " 'main': {'temp': 280.32,\n",
       "  'pressure': 1012,\n",
       "  'humidity': 81,\n",
       "  'temp_min': 279.15,\n",
       "  'temp_max': 281.15},\n",
       " 'visibility': 10000,\n",
       " 'wind': {'speed': 4.1, 'deg': 80},\n",
       " 'clouds': {'all': 90},\n",
       " 'dt': 1485789600,\n",
       " 'sys': {'type': 1,\n",
       "  'id': 5091,\n",
       "  'message': 0.0103,\n",
       "  'country': 'GB',\n",
       "  'sunrise': 1485762037,\n",
       "  'sunset': 1485794875},\n",
       " 'id': 2643743,\n",
       " 'name': 'London',\n",
       " 'cod': 200}"
      ]
     },
     "execution_count": 19,
     "metadata": {},
     "output_type": "execute_result"
    }
   ],
   "source": [
    "json_data = json.loads(data)\n",
    "json_data"
   ]
  },
  {
   "cell_type": "code",
   "execution_count": 20,
   "metadata": {},
   "outputs": [
    {
     "name": "stdout",
     "output_type": "stream",
     "text": [
      "{\"coord\": {\"lon\": -0.13, \"lat\": 51.51}, \"weather\": [{\"id\": 300, \"main\": \"Drizzle\", \"description\": \"light intensity drizzle\", \"icon\": \"09d\"}], \"base\": \"stations\", \"main\": {\"temp\": 280.32, \"pressure\": 1012, \"humidity\": 81, \"temp_min\": 279.15, \"temp_max\": 281.15}, \"visibility\": 10000, \"wind\": {\"speed\": 4.1, \"deg\": 80}, \"clouds\": {\"all\": 90}, \"dt\": 1485789600, \"sys\": {\"type\": 1, \"id\": 5091, \"message\": 0.0103, \"country\": \"GB\", \"sunrise\": 1485762037, \"sunset\": 1485794875}, \"id\": 2643743, \"name\": \"London\", \"cod\": 200}\n"
     ]
    }
   ],
   "source": [
    "json_string = json.dumps(json_data)\n",
    "print(json_string)"
   ]
  },
  {
   "cell_type": "markdown",
   "metadata": {},
   "source": [
    "# 2. Facebook Api"
   ]
  },
  {
   "cell_type": "code",
   "execution_count": 62,
   "metadata": {},
   "outputs": [],
   "source": [
    "import requests"
   ]
  },
  {
   "cell_type": "code",
   "execution_count": 66,
   "metadata": {},
   "outputs": [],
   "source": [
    "url_list = []\n",
    "for i in range(4,8):\n",
    "    url = \"http://graph.facebook.com/{}/picture?type=large\".format(i)\n",
    "    url_list.append(url)"
   ]
  },
  {
   "cell_type": "code",
   "execution_count": 67,
   "metadata": {},
   "outputs": [],
   "source": [
    "req_list =[]\n",
    "for url in url_list:\n",
    "    r = requests.get(url)\n",
    "    req_list.append(r)"
   ]
  },
  {
   "cell_type": "code",
   "execution_count": 68,
   "metadata": {},
   "outputs": [],
   "source": [
    "for i in range(4):\n",
    "    with open(\"Sample Pic {}.png\".format(i),'wb') as f:\n",
    "        f.write(req_list[i].content)\n",
    "    f.close()"
   ]
  },
  {
   "cell_type": "markdown",
   "metadata": {},
   "source": [
    "# 3. Google Api"
   ]
  },
  {
   "cell_type": "code",
   "execution_count": 69,
   "metadata": {},
   "outputs": [],
   "source": [
    "url = \"https://maps.googleapis.com/maps/api/geocode/json?\""
   ]
  },
  {
   "cell_type": "code",
   "execution_count": 153,
   "metadata": {},
   "outputs": [],
   "source": [
    "params = {\n",
    "    \"address\":\"Holy Trinity Church School\",\n",
    "    \"key\" : \"API_KEY\"\n",
    "}"
   ]
  },
  {
   "cell_type": "code",
   "execution_count": 154,
   "metadata": {},
   "outputs": [],
   "source": [
    "r = requests.get(url,params) "
   ]
  },
  {
   "cell_type": "code",
   "execution_count": 155,
   "metadata": {},
   "outputs": [
    {
     "name": "stdout",
     "output_type": "stream",
     "text": [
      "{\n",
      "   \"results\" : [\n",
      "      {\n",
      "         \"address_components\" : [\n",
      "            {\n",
      "               \"long_name\" : \"601\",\n",
      "               \"short_name\" : \"601\",\n",
      "               \"types\" : [ \"street_number\" ]\n",
      "            },\n",
      "            {\n",
      "               \"long_name\" : \"East Chippewa Street\",\n",
      "               \"short_name\" : \"E Chippewa St\",\n",
      "               \"types\" : [ \"route\" ]\n",
      "            },\n",
      "            {\n",
      "               \"long_name\" : \"Paola\",\n",
      "               \"short_name\" : \"Paola\",\n",
      "               \"types\" : [ \"locality\", \"political\" ]\n",
      "            },\n",
      "            {\n",
      "               \"long_name\" : \"Miami County\",\n",
      "               \"short_name\" : \"Miami County\",\n",
      "               \"types\" : [ \"administrative_area_level_2\", \"political\" ]\n",
      "            },\n",
      "            {\n",
      "               \"long_name\" : \"Kansas\",\n",
      "               \"short_name\" : \"KS\",\n",
      "               \"types\" : [ \"administrative_area_level_1\", \"political\" ]\n",
      "            },\n",
      "            {\n",
      "               \"long_name\" : \"United States\",\n",
      "               \"short_name\" : \"US\",\n",
      "               \"types\" : [ \"country\", \"political\" ]\n",
      "            },\n",
      "            {\n",
      "               \"long_name\" : \"66071\",\n",
      "               \"short_name\" : \"66071\",\n",
      "               \"types\" : [ \"postal_code\" ]\n",
      "            },\n",
      "            {\n",
      "               \"long_name\" : \"2015\",\n",
      "               \"short_name\" : \"2015\",\n",
      "               \"types\" : [ \"postal_code_suffix\" ]\n",
      "            }\n",
      "         ],\n",
      "         \"formatted_address\" : \"601 E Chippewa St, Paola, KS 66071, USA\",\n",
      "         \"geometry\" : {\n",
      "            \"location\" : {\n",
      "               \"lat\" : 38.5676846,\n",
      "               \"lng\" : -94.87143139999999\n",
      "            },\n",
      "            \"location_type\" : \"ROOFTOP\",\n",
      "            \"viewport\" : {\n",
      "               \"northeast\" : {\n",
      "                  \"lat\" : 38.5690335802915,\n",
      "                  \"lng\" : -94.87008241970848\n",
      "               },\n",
      "               \"southwest\" : {\n",
      "                  \"lat\" : 38.5663356197085,\n",
      "                  \"lng\" : -94.8727803802915\n",
      "               }\n",
      "            }\n",
      "         },\n",
      "         \"place_id\" : \"ChIJM0fwtcCywIcR7cLZ8qAxHk8\",\n",
      "         \"plus_code\" : {\n",
      "            \"compound_code\" : \"H49H+3C Paola, KS, United States\",\n",
      "            \"global_code\" : \"86C7H49H+3C\"\n",
      "         },\n",
      "         \"types\" : [ \"establishment\", \"point_of_interest\", \"school\" ]\n",
      "      }\n",
      "   ],\n",
      "   \"status\" : \"OK\"\n",
      "}\n",
      "\n"
     ]
    }
   ],
   "source": [
    "print(r.content.decode('utf-8'))"
   ]
  },
  {
   "cell_type": "code",
   "execution_count": null,
   "metadata": {},
   "outputs": [],
   "source": []
  }
 ],
 "metadata": {
  "kernelspec": {
   "display_name": "Python 3",
   "language": "python",
   "name": "python3"
  },
  "language_info": {
   "codemirror_mode": {
    "name": "ipython",
    "version": 3
   },
   "file_extension": ".py",
   "mimetype": "text/x-python",
   "name": "python",
   "nbconvert_exporter": "python",
   "pygments_lexer": "ipython3",
   "version": "3.7.7"
  }
 },
 "nbformat": 4,
 "nbformat_minor": 4
}
