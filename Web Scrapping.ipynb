{
 "cells": [
  {
   "cell_type": "markdown",
   "metadata": {},
   "source": [
    "# Data Scraping using Beautiful Soup¶\n",
    "* Import Beautiful Soup\n",
    "* Make a GET request to fetch Page Data\n",
    "* Parse HTML\n",
    "* Filter Relvant parts"
   ]
  },
  {
   "cell_type": "code",
   "execution_count": 109,
   "metadata": {},
   "outputs": [],
   "source": [
    "import bs4\n",
    "from urllib.request import urlopen\n",
    "from bs4 import BeautifulSoup as soup\n",
    "import numpy as np\n",
    "import pandas as pd"
   ]
  },
  {
   "cell_type": "code",
   "execution_count": 110,
   "metadata": {},
   "outputs": [],
   "source": [
    "android_url = \"https://en.wikipedia.org/wiki/Android_version_history\"\n",
    "\n",
    "data = urlopen(android_url)\n",
    "\n",
    "android_html = data.read()\n",
    "\n",
    "data.close()"
   ]
  },
  {
   "cell_type": "markdown",
   "metadata": {},
   "source": [
    "# 2. Parsing Data"
   ]
  },
  {
   "cell_type": "code",
   "execution_count": 111,
   "metadata": {},
   "outputs": [],
   "source": [
    "android_soup = soup(android_html,'html.parser')"
   ]
  },
  {
   "cell_type": "code",
   "execution_count": 112,
   "metadata": {},
   "outputs": [
    {
     "name": "stdout",
     "output_type": "stream",
     "text": [
      "2\n"
     ]
    }
   ],
   "source": [
    "android_tables = android_soup.find('table',{'class':'wikitable'})\n",
    "print(len(android_tables))"
   ]
  },
  {
   "cell_type": "markdown",
   "metadata": {},
   "source": [
    "# 3. Extracting Useful Information\n",
    "* Remove underired tags\n",
    "* Extract Table header And Data"
   ]
  },
  {
   "cell_type": "code",
   "execution_count": 113,
   "metadata": {},
   "outputs": [
    {
     "name": "stdout",
     "output_type": "stream",
     "text": [
      "[<th>Name\n",
      "</th>, <th>Version number(s)\n",
      "</th>, <th>Initial release date\n",
      "</th>, <th>Latest release\n",
      "</th>, <th>API level\n",
      "</th>, <th>References\n",
      "</th>]\n"
     ]
    }
   ],
   "source": [
    "headers = android_tables.find_all('th')\n",
    "print(headers)"
   ]
  },
  {
   "cell_type": "code",
   "execution_count": 114,
   "metadata": {},
   "outputs": [
    {
     "data": {
      "text/plain": [
       "['Name',\n",
       " 'Version number(s)',\n",
       " 'Initial release date',\n",
       " 'Latest release',\n",
       " 'API level',\n",
       " 'References']"
      ]
     },
     "execution_count": 114,
     "metadata": {},
     "output_type": "execute_result"
    }
   ],
   "source": [
    "for i in range(len(headers)):\n",
    "    headers[i] = headers[i].text[:-1]\n",
    "headers"
   ]
  },
  {
   "cell_type": "code",
   "execution_count": 115,
   "metadata": {},
   "outputs": [],
   "source": [
    "rows_table = android_tables.find_all('tr')[1:] \n",
    "list_rows = []\n",
    "for i in range(len(rows_table)):\n",
    "    arow = rows_table[i].find_all('td',{})\n",
    "    list_ele = []\n",
    "    for d in arow:\n",
    "        if d.text[-1] == \"\\n\": \n",
    "            list_ele.append(d.text[:-1])\n",
    "        else:\n",
    "            list_ele.append(d.text)\n",
    "    list_rows.append(list_ele)"
   ]
  },
  {
   "cell_type": "code",
   "execution_count": 116,
   "metadata": {},
   "outputs": [
    {
     "name": "stdout",
     "output_type": "stream",
     "text": [
      "[['No codename', '1.0', 'September 23, 2008', '', '1', '[9]'], ['1.1', 'February 9, 2009', '', '2', '[9][11]'], ['Cupcake', '1.5', 'April 27, 2009', '', '3', ''], ['Donut', '1.6', 'September 15, 2009', '', '4', '[12]'], ['Eclair', '2.0 – 2.1', 'October 26, 2009', 'January 12, 2010', '5 – 7', '[13]'], ['Froyo', '2.2 – 2.2.3', 'May 20, 2010', 'November 21, 2011', '8', '[14]'], ['Gingerbread', '2.3 – 2.3.7', 'December 6, 2010', 'September 21, 2011', '9 – 10', '[15]'], ['Honeycomb', '3.0 – 3.2.6', 'February 22, 2011', 'February 15, 2014', '11 – 13', '[16]'], ['Ice Cream Sandwich', '4.0 – 4.0.4', 'October 18, 2011', 'June 6, 2012', '14 – 15', '[17]'], ['Jelly Bean', '4.1 – 4.3.1', 'July 9, 2012', 'October 7, 2013', '16 – 18', '[18]'], ['KitKat', '4.4 – 4.4.4', 'October 31, 2013', 'July 7, 2014', '19 – 20', '[19]'], ['Lollipop', '5.0 – 5.1.1', 'November 12, 2014', 'April 21, 2015', '21 – 22', '[20]'], ['Marshmallow', '6.0 – 6.0.1', 'October 5, 2015', 'October 3, 2017', '23', '[21]'], ['Nougat', '7.0 – 7.1.2', 'August 22, 2016', 'August 5, 2019', '24 – 25', '[22][23][24][25]'], ['Oreo', '8.0 – 8.1', 'August 21, 2017', 'June 1, 2020', '26 – 27', '[26]'], ['Pie', '9.0', 'August 6, 2018', 'June 1, 2020', '28', '[27]'], ['Android 10', '10.0', 'September 3, 2019', 'June 1, 2020', '29', '[28]'], ['Android 11', '11.0', 'TBD', '', '', '']]\n"
     ]
    }
   ],
   "source": [
    "print(list_rows)\n",
    "list_rows = list_rows[0:1] + list_rows[2:]"
   ]
  },
  {
   "cell_type": "code",
   "execution_count": 117,
   "metadata": {},
   "outputs": [],
   "source": [
    "df = pd.DataFrame(list_rows,columns=headers)"
   ]
  },
  {
   "cell_type": "code",
   "execution_count": 118,
   "metadata": {},
   "outputs": [
    {
     "data": {
      "text/html": [
       "<div>\n",
       "<style scoped>\n",
       "    .dataframe tbody tr th:only-of-type {\n",
       "        vertical-align: middle;\n",
       "    }\n",
       "\n",
       "    .dataframe tbody tr th {\n",
       "        vertical-align: top;\n",
       "    }\n",
       "\n",
       "    .dataframe thead th {\n",
       "        text-align: right;\n",
       "    }\n",
       "</style>\n",
       "<table border=\"1\" class=\"dataframe\">\n",
       "  <thead>\n",
       "    <tr style=\"text-align: right;\">\n",
       "      <th></th>\n",
       "      <th>Name</th>\n",
       "      <th>Version number(s)</th>\n",
       "      <th>Initial release date</th>\n",
       "      <th>Latest release</th>\n",
       "      <th>API level</th>\n",
       "      <th>References</th>\n",
       "    </tr>\n",
       "  </thead>\n",
       "  <tbody>\n",
       "    <tr>\n",
       "      <th>0</th>\n",
       "      <td>No codename</td>\n",
       "      <td>1.0</td>\n",
       "      <td>September 23, 2008</td>\n",
       "      <td></td>\n",
       "      <td>1</td>\n",
       "      <td>[9]</td>\n",
       "    </tr>\n",
       "    <tr>\n",
       "      <th>1</th>\n",
       "      <td>Cupcake</td>\n",
       "      <td>1.5</td>\n",
       "      <td>April 27, 2009</td>\n",
       "      <td></td>\n",
       "      <td>3</td>\n",
       "      <td></td>\n",
       "    </tr>\n",
       "    <tr>\n",
       "      <th>2</th>\n",
       "      <td>Donut</td>\n",
       "      <td>1.6</td>\n",
       "      <td>September 15, 2009</td>\n",
       "      <td></td>\n",
       "      <td>4</td>\n",
       "      <td>[12]</td>\n",
       "    </tr>\n",
       "    <tr>\n",
       "      <th>3</th>\n",
       "      <td>Eclair</td>\n",
       "      <td>2.0 – 2.1</td>\n",
       "      <td>October 26, 2009</td>\n",
       "      <td>January 12, 2010</td>\n",
       "      <td>5 – 7</td>\n",
       "      <td>[13]</td>\n",
       "    </tr>\n",
       "    <tr>\n",
       "      <th>4</th>\n",
       "      <td>Froyo</td>\n",
       "      <td>2.2 – 2.2.3</td>\n",
       "      <td>May 20, 2010</td>\n",
       "      <td>November 21, 2011</td>\n",
       "      <td>8</td>\n",
       "      <td>[14]</td>\n",
       "    </tr>\n",
       "    <tr>\n",
       "      <th>5</th>\n",
       "      <td>Gingerbread</td>\n",
       "      <td>2.3 – 2.3.7</td>\n",
       "      <td>December 6, 2010</td>\n",
       "      <td>September 21, 2011</td>\n",
       "      <td>9 – 10</td>\n",
       "      <td>[15]</td>\n",
       "    </tr>\n",
       "    <tr>\n",
       "      <th>6</th>\n",
       "      <td>Honeycomb</td>\n",
       "      <td>3.0 – 3.2.6</td>\n",
       "      <td>February 22, 2011</td>\n",
       "      <td>February 15, 2014</td>\n",
       "      <td>11 – 13</td>\n",
       "      <td>[16]</td>\n",
       "    </tr>\n",
       "    <tr>\n",
       "      <th>7</th>\n",
       "      <td>Ice Cream Sandwich</td>\n",
       "      <td>4.0 – 4.0.4</td>\n",
       "      <td>October 18, 2011</td>\n",
       "      <td>June 6, 2012</td>\n",
       "      <td>14 – 15</td>\n",
       "      <td>[17]</td>\n",
       "    </tr>\n",
       "    <tr>\n",
       "      <th>8</th>\n",
       "      <td>Jelly Bean</td>\n",
       "      <td>4.1 – 4.3.1</td>\n",
       "      <td>July 9, 2012</td>\n",
       "      <td>October 7, 2013</td>\n",
       "      <td>16 – 18</td>\n",
       "      <td>[18]</td>\n",
       "    </tr>\n",
       "    <tr>\n",
       "      <th>9</th>\n",
       "      <td>KitKat</td>\n",
       "      <td>4.4 – 4.4.4</td>\n",
       "      <td>October 31, 2013</td>\n",
       "      <td>July 7, 2014</td>\n",
       "      <td>19 – 20</td>\n",
       "      <td>[19]</td>\n",
       "    </tr>\n",
       "    <tr>\n",
       "      <th>10</th>\n",
       "      <td>Lollipop</td>\n",
       "      <td>5.0 – 5.1.1</td>\n",
       "      <td>November 12, 2014</td>\n",
       "      <td>April 21, 2015</td>\n",
       "      <td>21 – 22</td>\n",
       "      <td>[20]</td>\n",
       "    </tr>\n",
       "    <tr>\n",
       "      <th>11</th>\n",
       "      <td>Marshmallow</td>\n",
       "      <td>6.0 – 6.0.1</td>\n",
       "      <td>October 5, 2015</td>\n",
       "      <td>October 3, 2017</td>\n",
       "      <td>23</td>\n",
       "      <td>[21]</td>\n",
       "    </tr>\n",
       "    <tr>\n",
       "      <th>12</th>\n",
       "      <td>Nougat</td>\n",
       "      <td>7.0 – 7.1.2</td>\n",
       "      <td>August 22, 2016</td>\n",
       "      <td>August 5, 2019</td>\n",
       "      <td>24 – 25</td>\n",
       "      <td>[22][23][24][25]</td>\n",
       "    </tr>\n",
       "    <tr>\n",
       "      <th>13</th>\n",
       "      <td>Oreo</td>\n",
       "      <td>8.0 – 8.1</td>\n",
       "      <td>August 21, 2017</td>\n",
       "      <td>June 1, 2020</td>\n",
       "      <td>26 – 27</td>\n",
       "      <td>[26]</td>\n",
       "    </tr>\n",
       "    <tr>\n",
       "      <th>14</th>\n",
       "      <td>Pie</td>\n",
       "      <td>9.0</td>\n",
       "      <td>August 6, 2018</td>\n",
       "      <td>June 1, 2020</td>\n",
       "      <td>28</td>\n",
       "      <td>[27]</td>\n",
       "    </tr>\n",
       "    <tr>\n",
       "      <th>15</th>\n",
       "      <td>Android 10</td>\n",
       "      <td>10.0</td>\n",
       "      <td>September 3, 2019</td>\n",
       "      <td>June 1, 2020</td>\n",
       "      <td>29</td>\n",
       "      <td>[28]</td>\n",
       "    </tr>\n",
       "    <tr>\n",
       "      <th>16</th>\n",
       "      <td>Android 11</td>\n",
       "      <td>11.0</td>\n",
       "      <td>TBD</td>\n",
       "      <td></td>\n",
       "      <td></td>\n",
       "      <td></td>\n",
       "    </tr>\n",
       "  </tbody>\n",
       "</table>\n",
       "</div>"
      ],
      "text/plain": [
       "                  Name Version number(s) Initial release date  \\\n",
       "0          No codename               1.0   September 23, 2008   \n",
       "1              Cupcake               1.5       April 27, 2009   \n",
       "2                Donut               1.6   September 15, 2009   \n",
       "3               Eclair         2.0 – 2.1     October 26, 2009   \n",
       "4                Froyo       2.2 – 2.2.3         May 20, 2010   \n",
       "5          Gingerbread       2.3 – 2.3.7     December 6, 2010   \n",
       "6            Honeycomb       3.0 – 3.2.6    February 22, 2011   \n",
       "7   Ice Cream Sandwich       4.0 – 4.0.4     October 18, 2011   \n",
       "8           Jelly Bean       4.1 – 4.3.1         July 9, 2012   \n",
       "9               KitKat       4.4 – 4.4.4     October 31, 2013   \n",
       "10            Lollipop       5.0 – 5.1.1    November 12, 2014   \n",
       "11         Marshmallow       6.0 – 6.0.1      October 5, 2015   \n",
       "12              Nougat       7.0 – 7.1.2      August 22, 2016   \n",
       "13                Oreo         8.0 – 8.1      August 21, 2017   \n",
       "14                 Pie               9.0       August 6, 2018   \n",
       "15          Android 10              10.0    September 3, 2019   \n",
       "16          Android 11              11.0                  TBD   \n",
       "\n",
       "        Latest release API level        References  \n",
       "0                              1               [9]  \n",
       "1                              3                    \n",
       "2                              4              [12]  \n",
       "3     January 12, 2010     5 – 7              [13]  \n",
       "4    November 21, 2011         8              [14]  \n",
       "5   September 21, 2011    9 – 10              [15]  \n",
       "6    February 15, 2014   11 – 13              [16]  \n",
       "7         June 6, 2012   14 – 15              [17]  \n",
       "8      October 7, 2013   16 – 18              [18]  \n",
       "9         July 7, 2014   19 – 20              [19]  \n",
       "10      April 21, 2015   21 – 22              [20]  \n",
       "11     October 3, 2017        23              [21]  \n",
       "12      August 5, 2019   24 – 25  [22][23][24][25]  \n",
       "13        June 1, 2020   26 – 27              [26]  \n",
       "14        June 1, 2020        28              [27]  \n",
       "15        June 1, 2020        29              [28]  \n",
       "16                                                  "
      ]
     },
     "execution_count": 118,
     "metadata": {},
     "output_type": "execute_result"
    }
   ],
   "source": [
    "df"
   ]
  },
  {
   "cell_type": "code",
   "execution_count": null,
   "metadata": {},
   "outputs": [],
   "source": []
  }
 ],
 "metadata": {
  "kernelspec": {
   "display_name": "Python 3",
   "language": "python",
   "name": "python3"
  },
  "language_info": {
   "codemirror_mode": {
    "name": "ipython",
    "version": 3
   },
   "file_extension": ".py",
   "mimetype": "text/x-python",
   "name": "python",
   "nbconvert_exporter": "python",
   "pygments_lexer": "ipython3",
   "version": "3.7.7"
  }
 },
 "nbformat": 4,
 "nbformat_minor": 4
}
